{
  "nbformat": 4,
  "nbformat_minor": 0,
  "metadata": {
    "colab": {
      "name": "02_algebra_liniowa.ipynb",
      "provenance": [],
      "include_colab_link": true
    },
    "kernelspec": {
      "name": "python3",
      "display_name": "Python 3"
    }
  },
  "cells": [
    {
      "cell_type": "markdown",
      "metadata": {
        "id": "view-in-github",
        "colab_type": "text"
      },
      "source": [
        "<a href=\"https://colab.research.google.com/github/agagawrys/data-science-bootcamp/blob/main/01_wprowadzenie/02_algebra_liniowa.ipynb\" target=\"_parent\"><img src=\"https://colab.research.google.com/assets/colab-badge.svg\" alt=\"Open In Colab\"/></a>"
      ]
    },
    {
      "cell_type": "markdown",
      "metadata": {
        "id": "Dh-h0H3QH6_r"
      },
      "source": [
        "* @author: krakowiakpawel9@gmail.com  \n",
        "* @site: e-smartdata.org"
      ]
    },
    {
      "cell_type": "markdown",
      "metadata": {
        "id": "ZlL4HqNannLQ"
      },
      "source": [
        "### NumPy\n",
        ">Strona biblioteki: [https://numpy.org/](https://numpy.org/)  \n",
        ">Dokumentacja: [https://numpy.org/doc/](https://numpy.org/doc/)  \n",
        ">\n",
        ">Podstawowa biblioteka do obliczeń numerycznych w języku Python.\n",
        ">\n",
        ">Aby zainstalować bibliotekę NumPy, użyj polecenia poniżej:\n",
        "```\n",
        "pip install numpy\n",
        "```\n",
        "\n",
        "### Spis treści:\n",
        "1. [Norma wektora, długość wektora w $R^{2}$](#a1)\n",
        "2. [Norma euklidesowa $R^{n}$](#a2)\n",
        "3. [Odległóść dwóch punktów na płaszczyźnie](#a3)\n",
        "4. [Odległóść dwóch punktów w przestrzeni $R^{n}$](#a4)\n",
        "5. [Mnożenie macierzy](#a5)\n",
        "6. [Wyznacznik macierzy](#a6)\n",
        "7. [Ślad macierzy](#a7)\n",
        "8. [Macierz jednostkowa](#a8)\n",
        "9. [ Macierz odwrotna](#a9)\n",
        "10. [Macierz transponowana](#a10)\n",
        "11. [Rozwiązywanie układów równań](#a11)\n",
        "\n",
        "\n",
        "\n"
      ]
    },
    {
      "cell_type": "code",
      "metadata": {
        "id": "AEE5ZeP_mtQo",
        "outputId": "ddf33e32-7064-48a8-f866-aba805bb9390",
        "colab": {
          "base_uri": "https://localhost:8080/",
          "height": 35
        }
      },
      "source": [
        "import numpy as np\n",
        "np.__version__"
      ],
      "execution_count": 2,
      "outputs": [
        {
          "output_type": "execute_result",
          "data": {
            "text/plain": [
              "'1.25.2'"
            ],
            "application/vnd.google.colaboratory.intrinsic+json": {
              "type": "string"
            }
          },
          "metadata": {},
          "execution_count": 2
        }
      ]
    },
    {
      "cell_type": "markdown",
      "metadata": {
        "id": "IkWC7TXFwRZW"
      },
      "source": [
        "### <a name='a1'></a> Norma wektora, długość wektora w $R^{2}$\n",
        "\n",
        "${\\mathbf  {v}} = [v_{1}, v_{2}]$   \n",
        "$\\left\\|{\\mathbf  {v}}\\right\\|={\\sqrt  {v_{1}^{2}+v_{2}^{2}}}$"
      ]
    },
    {
      "cell_type": "code",
      "source": [
        "v1 = np.array([-1,4])\n",
        "v1"
      ],
      "metadata": {
        "id": "4Fa0wae665Cw",
        "outputId": "c0a120cb-b268-4dc4-ee92-b0d1c8473619",
        "colab": {
          "base_uri": "https://localhost:8080/"
        }
      },
      "execution_count": 6,
      "outputs": [
        {
          "output_type": "execute_result",
          "data": {
            "text/plain": [
              "array([-1,  4])"
            ]
          },
          "metadata": {},
          "execution_count": 6
        }
      ]
    },
    {
      "cell_type": "code",
      "source": [
        "np.linalg.norm(v1)"
      ],
      "metadata": {
        "id": "C4FP5KgY8Vxp",
        "outputId": "39cd9615-2e5b-4ded-a4fc-e7493f2001a9",
        "colab": {
          "base_uri": "https://localhost:8080/"
        }
      },
      "execution_count": 7,
      "outputs": [
        {
          "output_type": "execute_result",
          "data": {
            "text/plain": [
              "4.123105625617661"
            ]
          },
          "metadata": {},
          "execution_count": 7
        }
      ]
    },
    {
      "cell_type": "markdown",
      "metadata": {
        "id": "TGLtTPZ61TTN"
      },
      "source": [
        "### <a name='a2'></a> Norma euklidesowa w $R^{n}$\n",
        "\n",
        "$\\left\\|{\\mathbf  {v}}\\right\\|={\\sqrt  {v_{1}^{2}+v_{2}^{2}+\\cdots +v_{n}^{2}}}$"
      ]
    },
    {
      "cell_type": "code",
      "source": [
        "v2 = np.array([-10, 10, 13])\n",
        "np.linalg.norm(v2)"
      ],
      "metadata": {
        "id": "SHjZLKzF8_fv",
        "outputId": "cda27900-f17f-4d23-ef62-71d6c60b4d2a",
        "colab": {
          "base_uri": "https://localhost:8080/"
        }
      },
      "execution_count": 8,
      "outputs": [
        {
          "output_type": "execute_result",
          "data": {
            "text/plain": [
              "19.209372712298546"
            ]
          },
          "metadata": {},
          "execution_count": 8
        }
      ]
    },
    {
      "cell_type": "markdown",
      "metadata": {
        "id": "wJbp3rYIx1kD"
      },
      "source": [
        "### <a name='a3'></a> Odległóść dwóch punktów na płaszczyźnie\n"
      ]
    },
    {
      "cell_type": "code",
      "source": [
        "p = np.array([0, 3])\n",
        "q = np.array([4, 0])\n",
        "\n",
        "np.linalg.norm(p - q)"
      ],
      "metadata": {
        "id": "84Infdux91aV",
        "outputId": "eb01590c-2d28-4d6f-8dc6-145d43d3a327",
        "colab": {
          "base_uri": "https://localhost:8080/"
        }
      },
      "execution_count": 9,
      "outputs": [
        {
          "output_type": "execute_result",
          "data": {
            "text/plain": [
              "5.0"
            ]
          },
          "metadata": {},
          "execution_count": 9
        }
      ]
    },
    {
      "cell_type": "markdown",
      "metadata": {
        "id": "mU6sbERi0bgW"
      },
      "source": [
        "### <a name='a4'></a> Odległóść dwóch punktów w przestrzeni $R^{n}$\n"
      ]
    },
    {
      "cell_type": "markdown",
      "metadata": {
        "id": "1VjJWFII00GA"
      },
      "source": [
        " \\begin{aligned}d(\\mathbf {p} ,\\mathbf {q} )=d(\\mathbf {q} ,\\mathbf {p} )&={\\sqrt {(q_{1}-p_{1})^{2}+(q_{2}-p_{2})^{2}+\\cdots +(q_{n}-p_{n})^{2}}}\\\\[8pt]&={\\sqrt {\\sum _{i=1}^{n}(q_{i}-p_{i})^{2}}}\\end{aligned}\n",
        "\n"
      ]
    },
    {
      "cell_type": "code",
      "source": [
        "p = np.array([0, 3, 1])\n",
        "q = np.array([4, 0, 2])\n",
        "\n",
        "np.linalg.norm(p - q)"
      ],
      "metadata": {
        "id": "dkG4R0S8-SzD",
        "outputId": "b2d10a5d-33fc-4597-ce7a-d1b15f29f6c5",
        "colab": {
          "base_uri": "https://localhost:8080/"
        }
      },
      "execution_count": 10,
      "outputs": [
        {
          "output_type": "execute_result",
          "data": {
            "text/plain": [
              "5.0990195135927845"
            ]
          },
          "metadata": {},
          "execution_count": 10
        }
      ]
    },
    {
      "cell_type": "markdown",
      "metadata": {
        "id": "Okh4nOwfFBhj"
      },
      "source": [
        "### <a name='a5'></a> Mnożenie macierzy\n",
        "\n",
        "\n",
        "\n",
        "$${A} ={\\begin{bmatrix}a_{11}&a_{12}&\\cdots &a_{1n}\\\\a_{21}&a_{22}&\\cdots &a_{2n}\\\\\\vdots &\\vdots &\\ddots &\\vdots \\\\a_{m1}&a_{m2}&\\cdots &a_{mn}\\\\\\end{bmatrix}}$$\n",
        "A - macierz wymairu $m\\ x\\ n$\n",
        "\n",
        "$$ {B} ={\\begin{bmatrix}b_{11}&b_{12}&\\cdots &b_{1p}\\\\b_{21}&b_{22}&\\cdots &b_{2p}\\\\\\vdots &\\vdots &\\ddots &\\vdots \\\\b_{n1}&b_{n2}&\\cdots &b_{np}\\\\\\end{bmatrix}}$$\n",
        "B - macierz wymairu $n\\ x\\ p$\n",
        "\n",
        "$$C = AB$$\n",
        "C - macierz wymiaru $m\\ x\\ p$  \n",
        "Aby móc pomnożyć dwie macierze liczba liczba kolumn w lewej macierzy musi zgadzać się z liczbą wierszy prawej macierzy.\n",
        "\n",
        "Mnożenie macierzy nie jest przemienne! Tzn. $$AB \\neq BA$$\n",
        "\n",
        "\n"
      ]
    },
    {
      "cell_type": "markdown",
      "metadata": {
        "id": "tRJMn_cNqx_H"
      },
      "source": [
        "### Przykład 1\n",
        "$ X = \\begin{bmatrix}5&3\\\\3&9\\end{bmatrix}$, $ Y= \\begin{bmatrix}1\\\\-1\\end{bmatrix} $  \n",
        "$X$ macierz 2x2  \n",
        "$Y$ macierz 2x1\n",
        "$$Z = X \\cdot Y = \\begin{bmatrix}5&3\\\\3&9\\end{bmatrix} \\cdot \\begin{bmatrix}1\\\\-1\\end{bmatrix} = \\begin{bmatrix}2\\\\-6\\end{bmatrix}$$\n",
        "$Z$ macierz 2x1\n"
      ]
    },
    {
      "cell_type": "code",
      "source": [
        "X = np.array([[5, 3], [3, 9]])\n",
        "Y = np.array([[1], [-1]])\n",
        "print(X, '\\n')\n",
        "print(Y)"
      ],
      "metadata": {
        "id": "lg0xJ3vcBLnI",
        "outputId": "1e607f22-ad72-4ce8-96ec-9580e450fb10",
        "colab": {
          "base_uri": "https://localhost:8080/"
        }
      },
      "execution_count": 17,
      "outputs": [
        {
          "output_type": "stream",
          "name": "stdout",
          "text": [
            "[[5 3]\n",
            " [3 9]] \n",
            "\n",
            "[[ 1]\n",
            " [-1]]\n"
          ]
        }
      ]
    },
    {
      "cell_type": "code",
      "source": [
        "Z = np.dot(X, Y)\n",
        "Z"
      ],
      "metadata": {
        "id": "7YTC3ueZB2R3",
        "outputId": "26de8c5d-15fd-47dc-aaa6-4c1517565817",
        "colab": {
          "base_uri": "https://localhost:8080/"
        }
      },
      "execution_count": 14,
      "outputs": [
        {
          "output_type": "execute_result",
          "data": {
            "text/plain": [
              "array([[ 2],\n",
              "       [-6]])"
            ]
          },
          "metadata": {},
          "execution_count": 14
        }
      ]
    },
    {
      "cell_type": "code",
      "source": [
        "Z.shape"
      ],
      "metadata": {
        "id": "ZbnXBufdCMNb",
        "outputId": "de4520ea-a558-48ef-9692-8bb88ef150b2",
        "colab": {
          "base_uri": "https://localhost:8080/"
        }
      },
      "execution_count": 15,
      "outputs": [
        {
          "output_type": "execute_result",
          "data": {
            "text/plain": [
              "(2, 1)"
            ]
          },
          "metadata": {},
          "execution_count": 15
        }
      ]
    },
    {
      "cell_type": "markdown",
      "metadata": {
        "id": "8-97pYCDt3BW"
      },
      "source": [
        "### Przykład 2\n",
        "$X = \\begin{bmatrix}2&-1&3\\\\3&1&0\\end{bmatrix}$, $Y = \\begin{bmatrix}2&1&-1\\\\0&-1&2\\\\3&2&0\\end{bmatrix}$\n",
        "\n",
        "$X$ macierz 2x3  \n",
        "$Y$ macierz 3x3\n",
        "$$Z = X \\cdot Y =  \\begin{bmatrix}2&-1&3\\\\3&1&0\\end{bmatrix} \\cdot \\begin{bmatrix}2&1&-1\\\\0&-1&2\\\\3&2&0\\end{bmatrix} = \\begin{bmatrix}13&9&-4\\\\6&2&-1\\end{bmatrix}$$\n",
        "$Z$ macierz 2x3"
      ]
    },
    {
      "cell_type": "code",
      "source": [
        "X = np.array([[2, -1, 3], [3, 1, 0]])\n",
        "Y = np.array([[2, 1, -1], [0, -1, 2], [3, 2, 0]])\n",
        "print(X, '\\n')\n",
        "print(Y)"
      ],
      "metadata": {
        "id": "ErdqqMqnD7VP",
        "outputId": "27c1b8d2-5a86-4a11-d3c0-2fcd0a9d6ebe",
        "colab": {
          "base_uri": "https://localhost:8080/"
        }
      },
      "execution_count": 18,
      "outputs": [
        {
          "output_type": "stream",
          "name": "stdout",
          "text": [
            "[[ 2 -1  3]\n",
            " [ 3  1  0]] \n",
            "\n",
            "[[ 2  1 -1]\n",
            " [ 0 -1  2]\n",
            " [ 3  2  0]]\n"
          ]
        }
      ]
    },
    {
      "cell_type": "code",
      "source": [
        "np.dot(X, Y)"
      ],
      "metadata": {
        "id": "kPdvg7ArEk1Q",
        "outputId": "c2c8b23f-2caf-42cd-dea8-20e3e4efebf7",
        "colab": {
          "base_uri": "https://localhost:8080/"
        }
      },
      "execution_count": 19,
      "outputs": [
        {
          "output_type": "execute_result",
          "data": {
            "text/plain": [
              "array([[13,  9, -4],\n",
              "       [ 6,  2, -1]])"
            ]
          },
          "metadata": {},
          "execution_count": 19
        }
      ]
    },
    {
      "cell_type": "markdown",
      "metadata": {
        "id": "uaXVIO7owpsr"
      },
      "source": [
        "### <a name='a6'></a> Wyznacznik macierzy\n",
        "\n",
        "$${\\displaystyle A={\\begin{bmatrix}a_{11}&a_{12}&\\dots &a_{1n}\\\\a_{21}&a_{22}&\\dots &a_{2n}\\\\\\vdots &\\vdots &\\ddots &\\vdots \\\\a_{n1}&a_{n2}&\\dots &a_{nn}\\end{bmatrix}}}$$\n",
        "$A$ - macierz wymiaru nxn\n",
        "\n",
        "#### Oznaczenia:\n",
        "\n",
        "${\\displaystyle |A|=\\left|{\\begin{array}{c}a_{11}&a_{12}&\\dots &a_{1n}\\\\a_{21}&a_{22}&\\dots &a_{2n}\\\\\\vdots &\\vdots &\\ddots &\\vdots \\\\a_{n1}&a_{n2}&\\dots &a_{nn}\\end{array}}\\right|} $  lub  $ {\\displaystyle \\det A=\\det {\\begin{bmatrix}a_{11}&a_{12}&\\dots &a_{1n}\\\\a_{21}&a_{22}&\\dots &a_{2n}\\\\\\vdots &\\vdots &\\ddots &\\vdots \\\\a_{n1}&a_{n2}&\\dots &a_{nn}\\end{bmatrix}}}$\n",
        "\n",
        "#### Przykład:\n",
        "${\\displaystyle \\det A={\\begin{vmatrix}a_{11}&a_{12}\\\\a_{21}&a_{22}\\end{vmatrix}}=a_{11}a_{22}-a_{12}a_{21}}$\n",
        "\n",
        "${\\displaystyle \\det A={\\begin{vmatrix}a_{11}&a_{12}&a_{13}\\\\a_{21}&a_{22}&a_{23}\\\\a_{31}&a_{32}&a_{33}\\end{vmatrix}}=a_{11}a_{22}a_{33}+a_{21}a_{32}a_{13}+a_{31}a_{12}a_{23}-a_{21}a_{12}a_{33}-a_{11}a_{32}a_{23}-a_{31}a_{22}a_{13}}$\n",
        "\n",
        "${\\displaystyle \\det A={\\begin{vmatrix}2&4\\\\-1&3\\end{vmatrix}}=2\\cdot3-4\\cdot(-1)} = 6 + 4 = 10 $\n"
      ]
    },
    {
      "cell_type": "code",
      "source": [
        "A = np.array([[2, 4], [-1, 3]])\n",
        "round(np.linalg.det(A))"
      ],
      "metadata": {
        "id": "_KgsiIywG_ye",
        "outputId": "daa1910c-ce2e-440a-ad0b-3f39d5861c9f",
        "colab": {
          "base_uri": "https://localhost:8080/"
        }
      },
      "execution_count": 21,
      "outputs": [
        {
          "output_type": "execute_result",
          "data": {
            "text/plain": [
              "10"
            ]
          },
          "metadata": {},
          "execution_count": 21
        }
      ]
    },
    {
      "cell_type": "markdown",
      "metadata": {
        "id": "ZuvQFOKs8YPP"
      },
      "source": [
        "### <a name='a7'></a> Ślad macierzy\n",
        "\n",
        "$${\\displaystyle A={\\begin{bmatrix}a_{11}&a_{12}&\\dots &a_{1n}\\\\a_{21}&a_{22}&\\dots &a_{2n}\\\\\\vdots &\\vdots &\\ddots &\\vdots \\\\a_{n1}&a_{n2}&\\dots &a_{nn}\\end{bmatrix}}}$$\n",
        "$A$ - macierz wymiaru nxn\n",
        "\n",
        "${\\displaystyle \\operatorname {tr} (A)=\\sum _{i=1}^{n}a_{ii}=a_{11}+a_{22}+\\dots +a_{nn}}$\n",
        "\n",
        "#### Przykład:\n",
        "$A = \\begin{bmatrix}2&4\\\\-1&3\\end{bmatrix}$\n",
        "\n",
        "${\\displaystyle \\operatorname {tr} (A)=\\sum _{i=1}^{2}a_{ii}=a_{11}+a_{22} = 2 + 3 = 5}$"
      ]
    },
    {
      "cell_type": "code",
      "source": [
        "A = np.array([[2, 4], [-1, 3]])\n",
        "np.trace(A)"
      ],
      "metadata": {
        "id": "7MlwlBqiHxrw",
        "outputId": "77242b5a-353c-4e54-e17d-6ef7e9b78a97",
        "colab": {
          "base_uri": "https://localhost:8080/"
        }
      },
      "execution_count": 22,
      "outputs": [
        {
          "output_type": "execute_result",
          "data": {
            "text/plain": [
              "5"
            ]
          },
          "metadata": {},
          "execution_count": 22
        }
      ]
    },
    {
      "cell_type": "markdown",
      "metadata": {
        "id": "n6smJ_d59rqb"
      },
      "source": [
        "###  <a name='a8'></a>  Macierz jednostkowa\n",
        "\n",
        "Macierz jednostkowa - macierz kwadratowa, której współczynniki podane są wzorem:\n",
        "$${\\displaystyle a_{ij}={\\begin{cases}1\\quad {\\text{dla}}\\quad i=j\\\\[2pt]0\\quad {\\text{dla}}\\quad i\\neq j\\end{cases}}}$$\n",
        "\n",
        "#### Przykłady\n",
        "${\\displaystyle I_{1}={\\begin{bmatrix}1\\end{bmatrix}},\\;I_{2}={\\begin{bmatrix}1&0\\\\0&1\\end{bmatrix}},\\;I_{3}={\\begin{bmatrix}1&0&0\\\\0&1&0\\\\0&0&1\\end{bmatrix}}}$"
      ]
    },
    {
      "cell_type": "code",
      "source": [
        "np.eye(5, dtype='int')"
      ],
      "metadata": {
        "id": "KHi2-FfpIjF9",
        "outputId": "3f7f0b22-db4e-42b3-a8cc-5dabdd541aad",
        "colab": {
          "base_uri": "https://localhost:8080/"
        }
      },
      "execution_count": 25,
      "outputs": [
        {
          "output_type": "execute_result",
          "data": {
            "text/plain": [
              "array([[1, 0, 0, 0, 0],\n",
              "       [0, 1, 0, 0, 0],\n",
              "       [0, 0, 1, 0, 0],\n",
              "       [0, 0, 0, 1, 0],\n",
              "       [0, 0, 0, 0, 1]])"
            ]
          },
          "metadata": {},
          "execution_count": 25
        }
      ]
    },
    {
      "cell_type": "code",
      "source": [
        "np.eye(3)"
      ],
      "metadata": {
        "id": "V5zjJ4x_I4GL",
        "outputId": "39fb06e3-e077-42ff-8256-1fb6aa118e36",
        "colab": {
          "base_uri": "https://localhost:8080/"
        }
      },
      "execution_count": 26,
      "outputs": [
        {
          "output_type": "execute_result",
          "data": {
            "text/plain": [
              "array([[1., 0., 0.],\n",
              "       [0., 1., 0.],\n",
              "       [0., 0., 1.]])"
            ]
          },
          "metadata": {},
          "execution_count": 26
        }
      ]
    },
    {
      "cell_type": "markdown",
      "metadata": {
        "id": "P5Lda48C9SDD"
      },
      "source": [
        "### <a name='a9'></a>  Macierz odwrotna\n",
        "\n",
        "$A$ - macierz kwadratowa stopnia $n$. Macierz $A$ posiada macierz odwrotną, gdy istnieje macierz $B$, taka, że\n",
        "$$AB = BA = I$$\n",
        "\n",
        "$A = \\begin{bmatrix}2&4\\\\-1&3\\end{bmatrix}$"
      ]
    },
    {
      "cell_type": "code",
      "source": [
        "B = np.linalg.inv(A)\n",
        "B"
      ],
      "metadata": {
        "id": "ASqdi5RmJpcZ",
        "outputId": "96471b26-1061-4992-b29a-1dc137ae7750",
        "colab": {
          "base_uri": "https://localhost:8080/"
        }
      },
      "execution_count": 27,
      "outputs": [
        {
          "output_type": "execute_result",
          "data": {
            "text/plain": [
              "array([[ 0.3, -0.4],\n",
              "       [ 0.1,  0.2]])"
            ]
          },
          "metadata": {},
          "execution_count": 27
        }
      ]
    },
    {
      "cell_type": "code",
      "source": [
        "np.set_printoptions(precision=4, suppress=True)\n",
        "np.dot(A, B)"
      ],
      "metadata": {
        "id": "H0v_3qNZJzjM",
        "outputId": "6661d822-ba67-4116-f959-582b53d3b0db",
        "colab": {
          "base_uri": "https://localhost:8080/"
        }
      },
      "execution_count": 28,
      "outputs": [
        {
          "output_type": "execute_result",
          "data": {
            "text/plain": [
              "array([[1., 0.],\n",
              "       [0., 1.]])"
            ]
          },
          "metadata": {},
          "execution_count": 28
        }
      ]
    },
    {
      "cell_type": "code",
      "source": [
        "np.dot(B, A)"
      ],
      "metadata": {
        "id": "hyHFRW9lKJYY",
        "outputId": "92c25d25-11c9-43b1-ff28-37920234631c",
        "colab": {
          "base_uri": "https://localhost:8080/"
        }
      },
      "execution_count": 29,
      "outputs": [
        {
          "output_type": "execute_result",
          "data": {
            "text/plain": [
              "array([[ 1., -0.],\n",
              "       [ 0.,  1.]])"
            ]
          },
          "metadata": {},
          "execution_count": 29
        }
      ]
    },
    {
      "cell_type": "markdown",
      "metadata": {
        "id": "CQ21zqwi_lBi"
      },
      "source": [
        "### <a name='a10'></a> Macierz transponowana\n",
        "\n",
        "Zamiana wierszy na kolumny i kolumny na wiersze.\n",
        "\n",
        "#### Przykład 1:\n",
        "\n",
        "$A = \\begin{bmatrix}2&4\\\\-1&3\\end{bmatrix}$,\n",
        "$A^{T} = \\begin{bmatrix}2&-1\\\\4&3\\end{bmatrix}$\n",
        "\n",
        "#### Przykład 2:\n",
        "$A = \\begin{bmatrix}2&1&-1\\\\0&-1&2\\end{bmatrix}$,\n",
        "$A^{T} = \\begin{bmatrix}2&0\\\\1&-1\\\\-1&2\\end{bmatrix}$"
      ]
    },
    {
      "cell_type": "code",
      "source": [
        "A"
      ],
      "metadata": {
        "id": "sh2RgwqNKpmZ",
        "outputId": "14124aba-720d-44b7-eaf8-2f48bbc59e2d",
        "colab": {
          "base_uri": "https://localhost:8080/"
        }
      },
      "execution_count": 32,
      "outputs": [
        {
          "output_type": "execute_result",
          "data": {
            "text/plain": [
              "array([[ 2,  4],\n",
              "       [-1,  3]])"
            ]
          },
          "metadata": {},
          "execution_count": 32
        }
      ]
    },
    {
      "cell_type": "code",
      "source": [
        "np.transpose(A)"
      ],
      "metadata": {
        "id": "Eprn5CfqKjJ8",
        "outputId": "dc1880e4-64b1-4e62-9aa6-6b7e3d281a7f",
        "colab": {
          "base_uri": "https://localhost:8080/"
        }
      },
      "execution_count": 30,
      "outputs": [
        {
          "output_type": "execute_result",
          "data": {
            "text/plain": [
              "array([[ 2, -1],\n",
              "       [ 4,  3]])"
            ]
          },
          "metadata": {},
          "execution_count": 30
        }
      ]
    },
    {
      "cell_type": "code",
      "source": [
        "A.T"
      ],
      "metadata": {
        "id": "s2IBCphtKnVX",
        "outputId": "45f5c987-8bd5-4099-d555-aecd41738cdf",
        "colab": {
          "base_uri": "https://localhost:8080/"
        }
      },
      "execution_count": 31,
      "outputs": [
        {
          "output_type": "execute_result",
          "data": {
            "text/plain": [
              "array([[ 2, -1],\n",
              "       [ 4,  3]])"
            ]
          },
          "metadata": {},
          "execution_count": 31
        }
      ]
    },
    {
      "cell_type": "markdown",
      "metadata": {
        "id": "OzwC3dmHB1MH"
      },
      "source": [
        "### <a name='a11'></a> Rozwiązywanie układów równań\n",
        "Rozważmy układ równań $U$:  \n",
        "$${\\displaystyle \\mathrm {U} \\colon {\\begin{cases}{\\begin{matrix}a_{11}x_{1}&+&a_{12}x_{2}&+&\\dots &+&a_{1n}x_{n}&=b_{1},\\\\a_{21}x_{1}&+&a_{22}x_{2}&+&\\dots &+&a_{2n}x_{n}&=b_{2},\\\\\\vdots &&\\vdots &&\\ddots &&\\vdots &\\vdots \\\\a_{m1}x_{1}&+&a_{m2}x_{2}&+&\\dots &+&a_{mn}x_{n}&=b_{m}.\\end{matrix}}\\end{cases}}.}$$\n",
        "\n",
        "Wykorzystując macierze możemy to przedstawić następująco:\n",
        "\n",
        "$${\\begin{bmatrix}a_{11}&a_{12}&\\dots &a_{1n}\\\\a_{21}&a_{22}&\\dots &a_{2n}\\\\\\vdots &\\vdots &\\ddots &\\vdots \\\\a_{m1}&a_{m2}&\\dots &a_{mn}\\end{bmatrix}}{\\begin{bmatrix}x_{1}\\\\x_{2}\\\\\\vdots \\\\x_{n}\\end{bmatrix}}={\\begin{bmatrix}b_{1}\\\\b_{2}\\\\\\vdots \\\\b_{m}\\end{bmatrix}}$$\n",
        "I w zapisie skrótowym:\n",
        "$$\\mathbf {AX} =\\mathbf {B}$$\n",
        "\n",
        "Gdzie:  \n",
        "$A = {\\begin{bmatrix}a_{11}&a_{12}&\\dots &a_{1n}\\\\a_{21}&a_{22}&\\dots &a_{2n}\\\\\\vdots &\\vdots &\\ddots &\\vdots \\\\a_{m1}&a_{m2}&\\dots &a_{mn}\\end{bmatrix}}$ - macierz współczynników\n",
        "\n",
        "${\\displaystyle \\mathbf {B} =[b_{1},b_{2},\\dots ,b_{m}]} $ - wektor wyrazów wolnych  \n",
        "${\\mathbf  X}=[x_{1},x_{2},\\dots ,x_{n}] $ - wektor niewiadomych\n",
        "\n",
        "Jeśli macierz układu $A$ jest macierzą kwadratową, to oznaczoność układu jest równoważna jej odwracalności, tzn.\n",
        "$$\\mathbf {AX} =\\mathbf {B}$$\n",
        "$${\\displaystyle \\mathbf {A} ^{-1}\\mathbf {AX} =\\mathbf {A} ^{-1}\\mathbf {B}} $$\n",
        "$$\\mathbf {X} =\\mathbf {A} ^{-1}\\mathbf {B} .$$\n",
        "\n",
        "#### Przykład:\n",
        "Rozważmy układ równań:\n",
        "$$\\begin{cases}2x + 4y = 10 \\\\ x - y = -1 \\end{cases}$$  \n",
        "Rozwiązaniem jest para liczb:\n",
        "$$\\begin{cases}x = 1 \\\\ y = 2 \\end{cases}$$  \n",
        "\n",
        "\n",
        "\n",
        "\n"
      ]
    },
    {
      "cell_type": "code",
      "source": [
        "A = np.array([[2, 4], [1, -1]])\n",
        "print(A)"
      ],
      "metadata": {
        "id": "qQhrxZQfQV4m",
        "outputId": "94345026-2497-480b-e3b6-58acbcff81a0",
        "colab": {
          "base_uri": "https://localhost:8080/"
        }
      },
      "execution_count": 34,
      "outputs": [
        {
          "output_type": "stream",
          "name": "stdout",
          "text": [
            "[[ 2  4]\n",
            " [ 1 -1]]\n"
          ]
        }
      ]
    },
    {
      "cell_type": "code",
      "source": [
        "B = np.array([[10], [-1]])\n",
        "print(B)"
      ],
      "metadata": {
        "id": "X87pyVdQQiwp",
        "outputId": "c0a4849c-03b3-44e7-a7ab-838758c49d59",
        "colab": {
          "base_uri": "https://localhost:8080/"
        }
      },
      "execution_count": 36,
      "outputs": [
        {
          "output_type": "stream",
          "name": "stdout",
          "text": [
            "[[10]\n",
            " [-1]]\n"
          ]
        }
      ]
    },
    {
      "cell_type": "code",
      "source": [
        "A_inv = np.linalg.inv(A)\n",
        "X = np.dot(A_inv, B)\n",
        "X"
      ],
      "metadata": {
        "id": "bBaW85ZhQvR6",
        "outputId": "d34e5033-44de-4ef7-f78e-750e58fa14ac",
        "colab": {
          "base_uri": "https://localhost:8080/"
        }
      },
      "execution_count": 37,
      "outputs": [
        {
          "output_type": "execute_result",
          "data": {
            "text/plain": [
              "array([[1.],\n",
              "       [2.]])"
            ]
          },
          "metadata": {},
          "execution_count": 37
        }
      ]
    },
    {
      "cell_type": "code",
      "source": [
        "X.shape"
      ],
      "metadata": {
        "id": "iI_O8a25RRsj",
        "outputId": "5b7599ca-f1ef-448e-a488-5721e62d48e2",
        "colab": {
          "base_uri": "https://localhost:8080/"
        }
      },
      "execution_count": 38,
      "outputs": [
        {
          "output_type": "execute_result",
          "data": {
            "text/plain": [
              "(2, 1)"
            ]
          },
          "metadata": {},
          "execution_count": 38
        }
      ]
    }
  ]
}