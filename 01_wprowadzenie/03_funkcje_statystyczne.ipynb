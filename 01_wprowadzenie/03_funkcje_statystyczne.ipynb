{
  "nbformat": 4,
  "nbformat_minor": 0,
  "metadata": {
    "colab": {
      "name": "03_funkcje_statystyczne.ipynb",
      "provenance": [],
      "include_colab_link": true
    },
    "kernelspec": {
      "name": "python3",
      "display_name": "Python 3"
    }
  },
  "cells": [
    {
      "cell_type": "markdown",
      "metadata": {
        "id": "view-in-github",
        "colab_type": "text"
      },
      "source": [
        "<a href=\"https://colab.research.google.com/github/agagawrys/data-science-bootcamp/blob/main/01_wprowadzenie/03_funkcje_statystyczne.ipynb\" target=\"_parent\"><img src=\"https://colab.research.google.com/assets/colab-badge.svg\" alt=\"Open In Colab\"/></a>"
      ]
    },
    {
      "cell_type": "markdown",
      "metadata": {
        "id": "eMtaN-_iIC7l"
      },
      "source": [
        "* @author: krakowiakpawel9@gmail.com  \n",
        "* @site: e-smartdata.org"
      ]
    },
    {
      "cell_type": "markdown",
      "metadata": {
        "id": "ZlL4HqNannLQ"
      },
      "source": [
        "### NumPy\n",
        ">Strona biblioteki: [https://numpy.org/](https://numpy.org/)  \n",
        ">Dokumentacja: [https://numpy.org/doc/](https://numpy.org/doc/)  \n",
        ">\n",
        ">Podstawowa biblioteka do obliczeń numerycznych w języku Python.\n",
        ">\n",
        ">Aby zainstalować bibliotekę NumPy, użyj polecenia poniżej:\n",
        "```\n",
        "pip install numpy\n",
        "```\n",
        "\n"
      ]
    },
    {
      "cell_type": "markdown",
      "metadata": {
        "id": "3DO3_fjpXtOW"
      },
      "source": [
        "### Funkcje statystyczne"
      ]
    },
    {
      "cell_type": "code",
      "metadata": {
        "id": "AEE5ZeP_mtQo",
        "outputId": "fb8594bb-3b29-4608-85cc-15e484cb594f",
        "colab": {
          "base_uri": "https://localhost:8080/",
          "height": 35
        }
      },
      "source": [
        "import numpy as np\n",
        "np.__version__"
      ],
      "execution_count": 1,
      "outputs": [
        {
          "output_type": "execute_result",
          "data": {
            "text/plain": [
              "'1.25.2'"
            ],
            "application/vnd.google.colaboratory.intrinsic+json": {
              "type": "string"
            }
          },
          "metadata": {},
          "execution_count": 1
        }
      ]
    },
    {
      "cell_type": "code",
      "metadata": {
        "id": "N1R4uP6jVku7",
        "outputId": "48521e0d-803c-4084-c78c-87042093f193",
        "colab": {
          "base_uri": "https://localhost:8080/"
        }
      },
      "source": [
        "price = np.array([[12.40, 12.80, 11.90, 12.60, 1000],\n",
        "                  [12.50, 13.00, 11.70, 12.20, 2000],\n",
        "                  [12.20, 13.40, 12.20, 13.20, 1500]])\n",
        "print(price)"
      ],
      "execution_count": 2,
      "outputs": [
        {
          "output_type": "stream",
          "name": "stdout",
          "text": [
            "[[  12.4   12.8   11.9   12.6 1000. ]\n",
            " [  12.5   13.    11.7   12.2 2000. ]\n",
            " [  12.2   13.4   12.2   13.2 1500. ]]\n"
          ]
        }
      ]
    },
    {
      "cell_type": "markdown",
      "metadata": {
        "id": "vCJjQJztWooi"
      },
      "source": [
        "sum()"
      ]
    },
    {
      "cell_type": "code",
      "source": [
        "price.sum()"
      ],
      "metadata": {
        "id": "_-gWzyOzTNUR",
        "outputId": "9364166c-632a-4132-84a5-783c67edbb4d",
        "colab": {
          "base_uri": "https://localhost:8080/"
        }
      },
      "execution_count": 3,
      "outputs": [
        {
          "output_type": "execute_result",
          "data": {
            "text/plain": [
              "4650.1"
            ]
          },
          "metadata": {},
          "execution_count": 3
        }
      ]
    },
    {
      "cell_type": "code",
      "source": [
        "price.sum(axis=0)"
      ],
      "metadata": {
        "id": "ncDyREqRTee5",
        "outputId": "d4be6efc-46db-4686-c650-5df47817f8cd",
        "colab": {
          "base_uri": "https://localhost:8080/"
        }
      },
      "execution_count": 4,
      "outputs": [
        {
          "output_type": "execute_result",
          "data": {
            "text/plain": [
              "array([  37.1,   39.2,   35.8,   38. , 4500. ])"
            ]
          },
          "metadata": {},
          "execution_count": 4
        }
      ]
    },
    {
      "cell_type": "code",
      "source": [
        "np.sum(price, axis=0)"
      ],
      "metadata": {
        "id": "fYjJY-H6TxZi",
        "outputId": "1ae6c95b-649e-4c8d-f68b-07974da881e5",
        "colab": {
          "base_uri": "https://localhost:8080/"
        }
      },
      "execution_count": 5,
      "outputs": [
        {
          "output_type": "execute_result",
          "data": {
            "text/plain": [
              "array([  37.1,   39.2,   35.8,   38. , 4500. ])"
            ]
          },
          "metadata": {},
          "execution_count": 5
        }
      ]
    },
    {
      "cell_type": "markdown",
      "metadata": {
        "id": "84O-LhuMWqIS"
      },
      "source": [
        "min()"
      ]
    },
    {
      "cell_type": "code",
      "source": [
        "np.min(price, axis=0)"
      ],
      "metadata": {
        "id": "EnF5nyj8UJqJ",
        "outputId": "dcb329f6-4a54-47dd-d355-a110b40e1a07",
        "colab": {
          "base_uri": "https://localhost:8080/"
        }
      },
      "execution_count": 6,
      "outputs": [
        {
          "output_type": "execute_result",
          "data": {
            "text/plain": [
              "array([  12.2,   12.8,   11.7,   12.2, 1000. ])"
            ]
          },
          "metadata": {},
          "execution_count": 6
        }
      ]
    },
    {
      "cell_type": "markdown",
      "metadata": {
        "id": "48B6AF5FWrxh"
      },
      "source": [
        "max()"
      ]
    },
    {
      "cell_type": "code",
      "source": [
        "np.max(price, axis=0)"
      ],
      "metadata": {
        "id": "Y3Nwb9QDUOXI",
        "outputId": "10f0883e-9868-419c-c14c-1ca3473c62e3",
        "colab": {
          "base_uri": "https://localhost:8080/"
        }
      },
      "execution_count": 7,
      "outputs": [
        {
          "output_type": "execute_result",
          "data": {
            "text/plain": [
              "array([  12.5,   13.4,   12.2,   13.2, 2000. ])"
            ]
          },
          "metadata": {},
          "execution_count": 7
        }
      ]
    },
    {
      "cell_type": "markdown",
      "metadata": {
        "id": "CyMEQi3_W0Nl"
      },
      "source": [
        "median()"
      ]
    },
    {
      "cell_type": "code",
      "source": [
        "np.median(price)"
      ],
      "metadata": {
        "id": "pUOCM_VkUYEo",
        "outputId": "9f97cc9d-53c8-408e-ce8f-09825e7a7a16",
        "colab": {
          "base_uri": "https://localhost:8080/"
        }
      },
      "execution_count": 8,
      "outputs": [
        {
          "output_type": "execute_result",
          "data": {
            "text/plain": [
              "12.6"
            ]
          },
          "metadata": {},
          "execution_count": 8
        }
      ]
    },
    {
      "cell_type": "markdown",
      "metadata": {
        "id": "KYmzsM9CXFjq"
      },
      "source": [
        "mean()"
      ]
    },
    {
      "cell_type": "code",
      "source": [
        "np.mean(price, axis=0)"
      ],
      "metadata": {
        "id": "iYU4jTSIUdaF",
        "outputId": "8e6a61ec-290f-49e4-f95a-c9fca61a708b",
        "colab": {
          "base_uri": "https://localhost:8080/"
        }
      },
      "execution_count": 10,
      "outputs": [
        {
          "output_type": "execute_result",
          "data": {
            "text/plain": [
              "array([  12.36666667,   13.06666667,   11.93333333,   12.66666667,\n",
              "       1500.        ])"
            ]
          },
          "metadata": {},
          "execution_count": 10
        }
      ]
    },
    {
      "cell_type": "markdown",
      "metadata": {
        "id": "CVv4qN47XRHv"
      },
      "source": [
        "std()"
      ]
    },
    {
      "cell_type": "code",
      "source": [
        "np.std(price, axis=0)"
      ],
      "metadata": {
        "id": "1sMiI3PoUs11",
        "outputId": "dbfe4dde-d1b2-4c87-82f1-57e1ee589248",
        "colab": {
          "base_uri": "https://localhost:8080/"
        }
      },
      "execution_count": 11,
      "outputs": [
        {
          "output_type": "execute_result",
          "data": {
            "text/plain": [
              "array([1.24721913e-01, 2.49443826e-01, 2.05480467e-01, 4.10960934e-01,\n",
              "       4.08248290e+02])"
            ]
          },
          "metadata": {},
          "execution_count": 11
        }
      ]
    },
    {
      "cell_type": "markdown",
      "metadata": {
        "id": "WOM40cVnXXyw"
      },
      "source": [
        "var()"
      ]
    },
    {
      "cell_type": "code",
      "source": [
        "np.var(price, axis=0)"
      ],
      "metadata": {
        "id": "e_nCDectU64o",
        "outputId": "9841507f-bfb7-487c-ff50-b6d37085d381",
        "colab": {
          "base_uri": "https://localhost:8080/"
        }
      },
      "execution_count": 14,
      "outputs": [
        {
          "output_type": "execute_result",
          "data": {
            "text/plain": [
              "array([1.55555556e-02, 6.22222222e-02, 4.22222222e-02, 1.68888889e-01,\n",
              "       1.66666667e+05])"
            ]
          },
          "metadata": {},
          "execution_count": 14
        }
      ]
    }
  ]
}